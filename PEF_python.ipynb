{
  "cells": [
    {
      "cell_type": "code",
      "execution_count": 493,
      "metadata": {
        "id": "J5Upq2a_91hL"
      },
      "outputs": [],
      "source": [
        "import numpy as np\n",
        "import time\n",
        "\n",
        "n1 = 400\n",
        "\n",
        "# exponentially decaying sinusoids with different frequencies\n",
        "inp = np.zeros(n1, dtype=np.float32)\n",
        "for j in range((n1 // 15), n1, n1 // 5):\n",
        "    wave = np.zeros(n1, dtype=np.float32)\n",
        "    for x in range(j, 399+1):\n",
        "        y = (x - j) / 400\n",
        "        wave[x-1] = np.exp(-y * 15) * np.sin(y * 0.95 * j)\n",
        "    inp += wave\n",
        "\n",
        "res = np.copy(inp)\n",
        "bak = np.copy(inp)\n",
        "np.save(\"./npy/p_inp_base.npy\",inp)\n"
      ]
    },
    {
      "cell_type": "code",
      "execution_count": 494,
      "metadata": {
        "id": "w28VUArT-GWT"
      },
      "outputs": [],
      "source": [
        "import matplotlib.pyplot as plt\n"
      ]
    },
    {
      "cell_type": "code",
      "execution_count": 495,
      "metadata": {
        "id": "H7ahCZ7n-GZy"
      },
      "outputs": [],
      "source": [
        "def stems(data, label, color):\n",
        "    n1 = len(data)\n",
        "\n",
        "    # Create a plot with initial zeros\n",
        "    plt.plot(np.zeros(n1), label=None, color='black')\n",
        "\n",
        "    # Create a stem plot\n",
        "    plt.stem(data, label=label, linefmt=color, markerfmt=' ', basefmt=\" \")\n",
        "\n",
        "    # Add legend and formatting\n",
        "    plt.legend(loc='upper left')\n",
        "    plt.xlim([0.5, n1 + 0.5])\n",
        "    plt.gca().spines['top'].set_visible(False)\n",
        "    plt.gca().spines['right'].set_visible(False)\n",
        "    plt.gca().spines['left'].set_visible(False)\n",
        "    plt.gca().spines['bottom'].set_visible(False)\n",
        "\n",
        "    # Show the plot\n",
        "    plt.show()"
      ]
    },
    {
      "cell_type": "code",
      "execution_count": 496,
      "metadata": {
        "id": "I0e21CS4-Gby"
      },
      "outputs": [],
      "source": [
        "def stems(data, label, color):\n",
        "    n1 = len(data)\n",
        "\n",
        "    # Create a plot with initial zeros\n",
        "    plt.plot(np.zeros(n1), label=None, color='black')\n",
        "\n",
        "    # Create a stem plot\n",
        "    # plt.stem(data, label=label, linefmt=color, markerfmt=' ', basefmt=\" \", use_line_collection=True)\n",
        "    plt.stem(data, label=label, linefmt=color, markerfmt=' ', basefmt=\" \")\n",
        "\n",
        "    # Add legend and formatting\n",
        "    plt.legend(loc='upper left')\n",
        "    plt.xlim([0.5, n1 + 0.5])\n",
        "    plt.gca().spines['top'].set_visible(False)\n",
        "    plt.gca().spines['right'].set_visible(False)\n",
        "    plt.gca().spines['left'].set_visible(False)\n",
        "    plt.gca().spines['bottom'].set_visible(False)\n",
        "\n",
        "    # Show the plot\n",
        "    plt.show()"
      ]
    },
    {
      "cell_type": "code",
      "execution_count": null,
      "metadata": {
        "colab": {
          "base_uri": "https://localhost:8080/",
          "height": 430
        },
        "id": "6B9a0bgG-Gdx",
        "outputId": "4e82f648-18b7-430a-bafd-eca8bfe8fcc9"
      },
      "outputs": [],
      "source": [
        "plot_input = stems(inp, \"input\", \"blue\")"
      ]
    },
    {
      "cell_type": "code",
      "execution_count": 498,
      "metadata": {
        "id": "jeGOTzPA-Gfx"
      },
      "outputs": [],
      "source": [
        "def stream(inv, d, r, na, lambd):\n",
        "\n",
        "    a = np.zeros(na,dtype=np.float32)  # streaming PEF\n",
        "    dd = da = 0.0  # d (dot) d, d (dot) a\n",
        "\n",
        "    for ia in range(na):\n",
        "        if inv:\n",
        "            d[ia] = r[ia]\n",
        "        else:\n",
        "            r[ia] = d[ia]\n",
        "        dd += d[ia] * d[ia]\n",
        "\n",
        "    rn = np.float64(\"0.\")\n",
        "    for i1 in range(na, n1):\n",
        "        if inv:  # from r to d\n",
        "            rn = r[i1] / lambd\n",
        "            # rn = np.divide(r[i1], lambd,dtype=np.float64)\n",
        "            dn = rn * (lambd + dd) - da\n",
        "            d[i1] = dn\n",
        "        else:  # from d to r\n",
        "            dn = d[i1]\n",
        "            # rn = (dn + da) / (lambd + dd)\n",
        "            rn = np.divide(np.add(dn, da, dtype=np.float64), np.add(lambd, dd,dtype=np.float64),dtype=np.float64)\n",
        "            r[i1] = lambd * rn\n",
        "\n",
        "        # update PEF\n",
        "        for ia in range(na):\n",
        "            a[ia] -= rn * d[i1 - ia - 1]\n",
        "\n",
        "        # update dd and da\n",
        "        dd += dn * dn - d[i1 - na] * d[i1 - na]\n",
        "        da = dn * a[0]\n",
        "        for ia in range(1, na):\n",
        "            da += a[ia] * d[i1 - ia]\n"
      ]
    },
    {
      "cell_type": "code",
      "execution_count": null,
      "metadata": {
        "colab": {
          "base_uri": "https://localhost:8080/",
          "height": 1000
        },
        "id": "0nttBhkN-GlJ",
        "outputId": "27338da6-ebaf-4881-cc98-d82129c6d627"
      },
      "outputs": [],
      "source": [
        "import matplotlib.pyplot as plt\n",
        "\n",
        "# Create subplots with a layout of 3 rows and 1 column\n",
        "fig, axs = plt.subplots(3, 1, figsize=(8, 12))  # Adjust figsize as needed\n",
        "\n",
        "# Plot the input data\n",
        "# axs[0].stem(inp, linefmt='blue', markerfmt=' ', basefmt=\" \", use_line_collection=True)\n",
        "axs[0].stem(inp, linefmt='blue', markerfmt=' ', basefmt=\" \")\n",
        "axs[0].set_title(\"Input\")\n",
        "axs[0].set_xlim([0.5, len(inp) + 0.5])\n",
        "axs[0].legend([\"Input\"], loc='upper left')\n",
        "axs[0].spines['top'].set_visible(False)\n",
        "axs[0].spines['right'].set_visible(False)\n",
        "axs[0].spines['left'].set_visible(False)\n",
        "axs[0].spines['bottom'].set_visible(False)\n",
        "\n",
        "# Plot the decon data\n",
        "# axs[1].stem(res, linefmt='green', markerfmt=' ', basefmt=\" \", use_line_collection=True)\n",
        "axs[1].stem(res, linefmt='green', markerfmt=' ', basefmt=\" \")\n",
        "axs[1].set_title(\"Decon\")\n",
        "axs[1].set_xlim([0.5, len(res) + 0.5])\n",
        "axs[1].legend([\"Decon\"], loc='upper left')\n",
        "axs[1].spines['top'].set_visible(False)\n",
        "axs[1].spines['right'].set_visible(False)\n",
        "axs[1].spines['left'].set_visible(False)\n",
        "axs[1].spines['bottom'].set_visible(False)\n",
        "\n",
        "# Plot the inverse data\n",
        "# axs[2].stem(bak, linefmt='purple', markerfmt=' ', basefmt=\" \", use_line_collection=True)\n",
        "axs[2].stem(bak, linefmt='purple', markerfmt=' ', basefmt=\" \")\n",
        "axs[2].set_title(\"Inverse\")\n",
        "axs[2].set_xlim([0.5, len(bak) + 0.5])\n",
        "axs[2].legend([\"Inverse\"], loc='upper left')\n",
        "axs[2].spines['top'].set_visible(False)\n",
        "axs[2].spines['right'].set_visible(False)\n",
        "axs[2].spines['left'].set_visible(False)\n",
        "axs[2].spines['bottom'].set_visible(False)\n",
        "\n",
        "# Adjust layout\n",
        "plt.tight_layout()\n",
        "\n",
        "# Show the plots\n",
        "plt.show()\n",
        "\n",
        "plt.savefig(\"stream.pdf\")"
      ]
    },
    {
      "cell_type": "code",
      "execution_count": null,
      "metadata": {
        "colab": {
          "base_uri": "https://localhost:8080/",
          "height": 34
        },
        "id": "Eymj4oMn-GnC",
        "outputId": "047a8c32-7a12-4804-a9c8-c7265c220353"
      },
      "outputs": [],
      "source": [
        "plt.savefig(\"stream.pdf\")"
      ]
    },
    {
      "cell_type": "markdown",
      "metadata": {
        "id": "ARVFS6wnCJvQ"
      },
      "source": [
        "### Multiple dimensions"
      ]
    },
    {
      "cell_type": "code",
      "execution_count": 503,
      "metadata": {
        "id": "_4g00EyY-GpC"
      },
      "outputs": [],
      "source": [
        "# Create a deepcopy of inp\n",
        "inp2 = np.copy(inp)\n",
        "known = np.ones(n1, dtype=bool)\n",
        "\n",
        "# Cut holes in the data and create a mask\n",
        "holes = [55, 153, 246, 301, 376]\n",
        "for hole in holes:\n",
        "    inp2[hole:hole + 20] = 0  # Note: Python slicing is exclusive of the end index\n",
        "    known[hole:hole + 20] = False\n"
      ]
    },
    {
      "cell_type": "code",
      "execution_count": 504,
      "metadata": {
        "id": "00eYGB2D-Gq6"
      },
      "outputs": [],
      "source": [
        "def stream_missing(d, k, na, lambd):\n",
        "\n",
        "    a = np.zeros(na)  # streaming PEF\n",
        "    da = 0.0  # d (dot) a\n",
        "    dd = 0.0  # d (dot) d\n",
        "\n",
        "    for ia in range(na):\n",
        "        dd += d[ia] * d[ia]\n",
        "\n",
        "    for i1 in range(na, len(d)):\n",
        "        if k[i1]:  # from d to r\n",
        "            dn = d[i1]\n",
        "            rn = (dn + da) / (lambd + dd)\n",
        "        else:  # assume r=0\n",
        "            dn = -da\n",
        "            rn = 0.0\n",
        "            d[i1] = dn\n",
        "\n",
        "        # update PEF\n",
        "        for ia in range(na):\n",
        "            a[ia] -= rn * d[i1 - ia - 1]\n",
        "\n",
        "        # update dd and da\n",
        "        dd += dn * dn - d[i1 - na] * d[i1 - na]\n",
        "        da = dn * a[0]\n",
        "        for ia in range(1, na):\n",
        "            da += a[ia] * d[i1 - ia]\n"
      ]
    },
    {
      "cell_type": "code",
      "execution_count": null,
      "metadata": {
        "colab": {
          "base_uri": "https://localhost:8080/",
          "height": 1000
        },
        "id": "5a0Lkld3-Gyx",
        "outputId": "cbc9ff3c-15d7-4822-e4e3-08da7f917c63"
      },
      "outputs": [],
      "source": [
        "# Create subplots with a layout of 3 rows and 1 column\n",
        "fig, axs = plt.subplots(3, 1, figsize=(8, 12))  # Adjust figsize as needed\n",
        "\n",
        "# Plot the ideal data\n",
        "axs[0].stem(inp, linefmt='blue', markerfmt=' ', basefmt=\" \")\n",
        "axs[0].set_title(\"Ideal\")\n",
        "axs[0].set_xlim([0.5, len(inp) + 0.5])\n",
        "axs[0].legend([\"Ideal\"], loc='upper left')\n",
        "axs[0].spines['top'].set_visible(False)\n",
        "axs[0].spines['right'].set_visible(False)\n",
        "axs[0].spines['left'].set_visible(False)\n",
        "axs[0].spines['bottom'].set_visible(False)\n",
        "\n",
        "# Plot the input with holes\n",
        "axs[1].stem(inp2, linefmt='green', markerfmt=' ', basefmt=\" \")\n",
        "axs[1].set_title(\"Input with Holes\")\n",
        "axs[1].set_xlim([0.5, len(inp2) + 0.5])\n",
        "axs[1].legend([\"Input\"], loc='upper left')\n",
        "axs[1].spines['top'].set_visible(False)\n",
        "axs[1].spines['right'].set_visible(False)\n",
        "axs[1].spines['left'].set_visible(False)\n",
        "axs[1].spines['bottom'].set_visible(False)\n",
        "\n",
        "miss = np.copy(inp2,order='F')\n",
        "stream_missing(miss, known, 2, 0.05)\n",
        "# Plot the interpolated data\n",
        "axs[2].stem(miss, linefmt='purple', markerfmt=' ', basefmt=\" \")\n",
        "axs[2].set_title(\"Filled\")\n",
        "axs[2].set_xlim([0.5, len(miss) + 0.5])\n",
        "axs[2].legend([\"Filled\"], loc='upper left')\n",
        "axs[2].spines['top'].set_visible(False)\n",
        "axs[2].spines['right'].set_visible(False)\n",
        "axs[2].spines['left'].set_visible(False)\n",
        "axs[2].spines['bottom'].set_visible(False)\n",
        "\n",
        "f = plt.figure()\n"
      ]
    },
    {
      "cell_type": "code",
      "execution_count": 506,
      "metadata": {
        "id": "8BQ1OQU7-G0b"
      },
      "outputs": [],
      "source": [
        "import zipfile"
      ]
    },
    {
      "cell_type": "markdown",
      "metadata": {},
      "source": [
        "# Part 2"
      ]
    },
    {
      "cell_type": "code",
      "execution_count": 507,
      "metadata": {
        "id": "hKMK_kJp-G2i"
      },
      "outputs": [],
      "source": [
        "import requests\n",
        "import os\n",
        "\n",
        "# Download data from a public server\n",
        "url = \"https://zenodo.org/api/records/11099632/files-archive\"\n",
        "response = requests.get(url)\n",
        "with open(\"files.zip\", \"wb\") as file:\n",
        "    file.write(response.content)\n",
        "\n",
        "# Unzip the archive file\n",
        "with zipfile.ZipFile(\"files.zip\", \"r\") as zip_ref:\n",
        "    zip_ref.extractall(\"extracted_folder\")  # Specify the directory to extract to\n"
      ]
    },
    {
      "cell_type": "code",
      "execution_count": 508,
      "metadata": {
        "id": "OSaPQgSz-G6s"
      },
      "outputs": [],
      "source": [
        "# Create a dictionary for easy access to files\n",
        "patterns = {}\n",
        "\n",
        "# Open the ZIP file and populate the dictionary\n",
        "with zipfile.ZipFile(\"files.zip\", \"r\") as zip_ref:\n",
        "    for file_info in zip_ref.infolist():\n",
        "        name = os.path.splitext(file_info.filename)[0]\n",
        "        patterns[name] = file_info\n",
        "\n",
        "# Example usage: access a specific file from the dictionary\n",
        "# file_obj = patterns['some_filename']\n"
      ]
    },
    {
      "cell_type": "code",
      "execution_count": null,
      "metadata": {
        "colab": {
          "base_uri": "https://localhost:8080/"
        },
        "id": "ULp0cL-AGeKV",
        "outputId": "f526f884-800e-417a-dae6-27bb60c167ba"
      },
      "outputs": [],
      "source": [
        "patterns"
      ]
    },
    {
      "cell_type": "code",
      "execution_count": 510,
      "metadata": {
        "id": "VmQof2dgF6a8"
      },
      "outputs": [],
      "source": [
        "# Create a dictionary for easy access to files\n",
        "patterns = {}\n",
        "\n",
        "# Open the ZIP file and populate the dictionary\n",
        "with zipfile.ZipFile(\"files.zip\", \"r\") as zip_ref:\n",
        "    for file_info in zip_ref.infolist():\n",
        "        name = os.path.splitext(file_info.filename)[0]\n",
        "        patterns[name] = file_info.filename\n",
        "\n",
        "# Example usage: access a specific file from the dictionary\n",
        "# To read the content of a file named \"wood\":\n",
        "with zipfile.ZipFile(\"files.zip\", \"r\") as zip_ref:\n",
        "    with zip_ref.open(patterns[\"wood\"]) as file:\n",
        "        # Read the file content (for example, as bytes)\n",
        "        data = file.read()\n",
        "        # Convert the data to an appropriate format, if necessary\n",
        "        # For example, you can convert it to a numpy array if it's numerical data\n",
        "        wood = np.frombuffer(data, dtype=np.float32).reshape(128, 128,order='F')"
      ]
    },
    {
      "cell_type": "code",
      "execution_count": null,
      "metadata": {
        "colab": {
          "base_uri": "https://localhost:8080/",
          "height": 430
        },
        "id": "6rALk-V8-G8i",
        "outputId": "94d2ef2b-ec90-436f-f10b-ef83e5f2ebc0"
      },
      "outputs": [],
      "source": [
        "plt.imshow(wood, cmap='inferno', interpolation='none', origin=\"lower\")\n",
        "plt.colorbar(label='Intensity')  \n",
        "plt.show()"
      ]
    },
    {
      "cell_type": "code",
      "execution_count": 512,
      "metadata": {
        "id": "k_gIIpM5-HAa"
      },
      "outputs": [],
      "source": [
        "def punch_hole(data):\n",
        "\n",
        "    n1, n2 = data.shape\n",
        "    hole = np.zeros_like(data, dtype=np.float32, order='F')\n",
        "    mask = np.zeros((n1, n2), dtype=bool, order='F')\n",
        "\n",
        "    for i2 in range(n2):\n",
        "        for i1 in range(n1):\n",
        "            x = (i1) / n1 - 0.5\n",
        "            y = (i2) / n2 - 0.3\n",
        "            u = x + y\n",
        "            v = (x - y) / 2\n",
        "            if u*u + v*v < 0.15:\n",
        "                hole[i1, i2] = 0.0\n",
        "            else:\n",
        "                hole[i1, i2] = data[i1, i2]\n",
        "                mask[i1, i2] = True\n",
        "\n",
        "    return hole, mask\n",
        "\n",
        "# Example usage with `wood` array\n",
        "whole, wmask = punch_hole(wood)\n",
        "np.save(\"./npy/p_whole.npy\",whole)\n",
        "np.save(\"./npy/p_wmask.npy\",wmask)\n"
      ]
    },
    {
      "cell_type": "code",
      "execution_count": null,
      "metadata": {
        "id": "4iZfZAIVpJV8"
      },
      "outputs": [],
      "source": [
        "plt.imshow(whole, cmap='inferno', interpolation='none', origin=\"lower\")"
      ]
    },
    {
      "cell_type": "code",
      "execution_count": null,
      "metadata": {
        "id": "pBvlCPX3ruxU"
      },
      "outputs": [],
      "source": [
        "plt.imshow(wmask, cmap='inferno', interpolation='none', origin=\"lower\")"
      ]
    },
    {
      "cell_type": "code",
      "execution_count": 516,
      "metadata": {
        "id": "v_H2pQIyP57d"
      },
      "outputs": [],
      "source": [
        "def helix(lag, ci):\n",
        "\n",
        "    # Middle of the grid\n",
        "    mid = (np.array(ci) // 2) -1\n",
        "\n",
        "    # Helix index of middle\n",
        "    linear_indices_ci = np.arange(ci.prod()).reshape(tuple(ci), order='F')\n",
        "\n",
        "    hmid = linear_indices_ci[mid[0],mid[1]]\n",
        "\n",
        "    map = lag + mid\n",
        "\n",
        "    values = linear_indices_ci[map[:, 0], map[:, 1]] - hmid\n",
        "    return values"
      ]
    },
    {
      "cell_type": "markdown",
      "metadata": {},
      "source": [
        "# stream_missing_helix_core"
      ]
    },
    {
      "cell_type": "code",
      "execution_count": 517,
      "metadata": {
        "id": "NPC3-BP3iH_x"
      },
      "outputs": [],
      "source": [
        "from numba import njit\n",
        "import numpy as np\n",
        "\n",
        "# da changing\n",
        "# rn changing\n",
        "@njit\n",
        "def stream_missing_helix_core(na, d, k, hlag, λ, std, maxlag, n1):\n",
        "    print(\"=============================\")\n",
        "    print(\"MISSING HELIX :\")\n",
        "    # na = len(hlag)\n",
        "    a = np.zeros(na, dtype=np.float32)\n",
        "    da = 0.\n",
        "    dd = 0.\n",
        "\n",
        "    # Compute initial dd\n",
        "    # dd seems ok\n",
        "    for ia in range(na):\n",
        "        dd += d[maxlag - hlag[ia]] ** 2\n",
        "\n",
        "\n",
        "    i = 0\n",
        "    # rn_arr = []\n",
        "    for i1 in range(maxlag, n1):\n",
        "        if k[i1]:\n",
        "            dn = d[i1]\n",
        "\n",
        "            rn = (dn + da) / (λ + dd)\n",
        "            # rn_arr.append(rn)\n",
        "            if i<5:\n",
        "                # print(i1)\n",
        "                # print(dn)\n",
        "                # print(type(dn))\n",
        "                # np.save(\"./npy/p_scalar_dn\",dn)\n",
        "                print(\"dn : \",dn)\n",
        "                print(\"da : \",da)\n",
        "                print(\"λ  : \",λ )\n",
        "                print(\"dd : \",dd)\n",
        "                print(\"rn : \",rn)\n",
        "                print(\"\")\n",
        "                i +=1\n",
        "\n",
        "        else:  # assume r_n is random\n",
        "            # rn = std * np.random.randn() / λ\n",
        "\n",
        "            myrandom = 0.26\n",
        "            rn = std * myrandom / λ\n",
        "\n",
        "            dn = rn * (λ + dd) - da\n",
        "            d[i1] = dn\n",
        "\n",
        "        # Update PEF\n",
        "        for ia in range(na):\n",
        "            if (i1 - hlag[ia]) >= 0:  # Ensure index is within bounds\n",
        "                a[ia] -= rn * d[i1 - hlag[ia]]\n",
        "\n",
        "        # Update dd and da\n",
        "        if (i1 - maxlag) >= 0:  # Ensure index is within bounds\n",
        "            dd += dn * dn - d[i1 - maxlag] * d[i1 - maxlag]\n",
        "        da = dn * a[0]\n",
        "        # if da != 0:\n",
        "        #     print(\"da : \",da)\n",
        "        for ia in range(1, na):\n",
        "            if (i1 + 1 - hlag[ia]) >= 0:  # Ensure index is within bounds\n",
        "                da += a[ia] * d[i1 + 1 - hlag[ia]]\n",
        "\n",
        "\n",
        "\n",
        "    print(\"END MISSING HELIX\")\n",
        "    print(\"=============================\\n\")\n",
        "\n",
        "\n",
        "def stream_missing_helix(d_n_dim, k_n_dim, lag, λ, std=0, seed=1):\n",
        "    \"Fill missing data in multiple dimensions using streaming PEF on a helix\"\n",
        "    d = np.reshape(d_n_dim, -1, order='F')\n",
        "    k = np.reshape(k_n_dim, -1, order='F')\n",
        "\n",
        "    n1, na = len(d), len(lag)\n",
        "    ci = np.array(d_n_dim.shape, order='F')\n",
        "    hlag = helix(lag, ci)\n",
        "    np.save(\"./npy/p_hlag.npy\",hlag)\n",
        "    maxlag = np.max(hlag)\n",
        "    # np.random.seed(seed)\n",
        "\n",
        "    # Call the JIT-compiled core function\n",
        "    stream_missing_helix_core(na, d, k, hlag, λ, std, maxlag, n1)"
      ]
    },
    {
      "cell_type": "code",
      "execution_count": 518,
      "metadata": {
        "collapsed": true,
        "id": "Py945a6D-HHx"
      },
      "outputs": [],
      "source": [
        "# 11 x 11 PEF\n",
        "lag = [(x, 0) for x in range(1, 6)]\n",
        "for k in range(1, 11):\n",
        "    lag.extend([(x, k) for x in range(-5, 6)])\n",
        "lag = np.array(lag)\n"
      ]
    },
    {
      "cell_type": "code",
      "execution_count": 519,
      "metadata": {
        "id": "Eqvx34JZ-HJr"
      },
      "outputs": [],
      "source": [
        "def fill_hole(forward, hole, mask, pad, noise=0, seed=1):\n",
        "    \"Fill holes in data using forward or backward filling\"\n",
        "    np.save(\"./npy/p_first_hole.npy\",hole)\n",
        "    np.save(\"./npy/p_first_mask.npy\",mask)\n",
        "\n",
        "    if forward:\n",
        "        # Pad data with zeros on the left\n",
        "        holepad = np.hstack([np.zeros((hole.shape[0], pad), dtype=np.float32, order=\"F\"), hole])\n",
        "        np.save(\"./npy/p_holepad.npy\", holepad)\n",
        "        np.save(\"./npy/p_hole.npy\", hole)\n",
        "\n",
        "        maskpad = np.hstack([np.zeros((mask.shape[0], pad), dtype=bool, order=\"F\"), mask])\n",
        "        np.save(\"./npy/p_maskpad.npy\", maskpad)\n",
        "\n",
        "        # Fill missing data\n",
        "        stream_missing_helix(holepad, maskpad, lag, 1e6, noise, seed)\n",
        "\n",
        "        # Return data without the padding\n",
        "        return holepad[:, pad:]\n",
        "\n",
        "    else:\n",
        "        # fake_randoms = rnd_seed2\n",
        "        # Reverse the data\n",
        "        rhole = np.asfortranarray(np.flip(hole))\n",
        "        np.save(\"./npy/p_rhole.npy\",rhole)\n",
        "\n",
        "        rmask = np.asfortranarray(np.flip(mask))\n",
        "        np.save(\"./npy/p_rmask.npy\",rmask)\n",
        "\n",
        "        # Pad reversed data with zeros on the left\n",
        "        holepad = np.hstack([np.zeros((rhole.shape[0], pad), dtype=np.float32, order=\"F\"), rhole])\n",
        "        np.save(\"./npy/p_else_holepad.npy\", holepad)\n",
        "        maskpad = np.hstack([np.zeros((rmask.shape[0], pad), dtype=bool, order=\"F\"), rmask])\n",
        "        np.save(\"./npy/p_else_maskpad.npy\", maskpad)\n",
        "\n",
        "        # Fill missing data\n",
        "        stream_missing_helix(holepad, maskpad, lag, 1e6, noise, seed + 1)\n",
        "\n",
        "        return np.asfortranarray(np.flip(holepad[:, pad:]))\n"
      ]
    },
    {
      "cell_type": "code",
      "execution_count": null,
      "metadata": {
        "id": "8BOigcnY-HLq"
      },
      "outputs": [],
      "source": [
        "filled1 = fill_hole(True, whole, wmask, 20)\n",
        "filled2 = fill_hole(False, whole, wmask, 20)"
      ]
    },
    {
      "cell_type": "markdown",
      "metadata": {},
      "source": [
        "# exec before"
      ]
    },
    {
      "cell_type": "code",
      "execution_count": 522,
      "metadata": {
        "id": "3152AjfDI_6M"
      },
      "outputs": [],
      "source": [
        "def plot2(ax, data, title):\n",
        "    # Display heatmap on the provided axis\n",
        "    im = ax.imshow(data, cmap='gray', vmin=-137, vmax=137)\n",
        "    ax.set_title(title)\n",
        "    return im "
      ]
    },
    {
      "cell_type": "code",
      "execution_count": null,
      "metadata": {
        "id": "dzg8_NVsI_-M"
      },
      "outputs": [],
      "source": [
        "# Create the figure and subplots\n",
        "fig, (ax1, ax2, ax3) = plt.subplots(1, 3, figsize=(15, 5))\n",
        "\n",
        "# Plot the three images\n",
        "im1 = plot2(ax1, filled1, \"(a) Filled 1\")\n",
        "im2 = plot2(ax2, filled2, \"(b) Filled 2\")\n",
        "im3 = plot2(ax3, filled1 + filled2 - whole, \"(c) Filled 1+2\")\n",
        "\n",
        "np.save(\"./npy/p_p3.npy\",filled1+filled2-whole)\n",
        "\n",
        "# Add a colorbar for each subplot (optional)\n",
        "fig.colorbar(im1, ax=ax1)\n",
        "fig.colorbar(im2, ax=ax2)\n",
        "fig.colorbar(im3, ax=ax3)\n",
        "\n",
        "# Adjust layout\n",
        "plt.tight_layout()\n",
        "plt.show()"
      ]
    },
    {
      "cell_type": "code",
      "execution_count": null,
      "metadata": {
        "id": "nFblwjyi-HNd"
      },
      "outputs": [],
      "source": [
        "# Fill the hole (similar to your Julia code)\n",
        "filled = fill_hole(True, whole, wmask, 20, 2) + fill_hole(False, whole, wmask, 20, 2) - whole\n",
        "\n",
        "# Create the figure and subplots\n",
        "fig, (ax1, ax2, ax3) = plt.subplots(1, 3, figsize=(15, 5))\n",
        "\n",
        "# Plot the three images\n",
        "im1 = plot2(ax1, wood, \"(a) Ideal\")\n",
        "im2 = plot2(ax2, whole, \"(b) Gapped\")\n",
        "im3 = plot2(ax3, filled, \"(c) Filled\")\n",
        "\n",
        "# Add a colorbar for each subplot (optional)\n",
        "fig.colorbar(im1, ax=ax1)\n",
        "fig.colorbar(im2, ax=ax2)\n",
        "fig.colorbar(im3, ax=ax3)\n",
        "\n",
        "# Adjust layout\n",
        "plt.tight_layout()\n",
        "plt.show()\n"
      ]
    },
    {
      "cell_type": "code",
      "execution_count": null,
      "metadata": {},
      "outputs": [],
      "source": [
        "images = []\n",
        "fig, axes = plt.subplots(1, 3, figsize=(15, 5))\n",
        "for k in range(1,4):\n",
        "    filled = fill_hole(True,  whole, wmask, 20, 2, k) + fill_hole(False, whole, wmask, 20, 2, k+3) - whole \n",
        "    images.append(plot2(axes[k-1], filled, f\"Realization {k}\"))\n",
        "    fig.colorbar(images[k-1], ax=axes[k-1])\n",
        "    np.save(\"./npy/p_k.npy\",filled)\n",
        "\n",
        "# Adjust layout\n",
        "plt.tight_layout()\n",
        "plt.show()"
      ]
    },
    {
      "cell_type": "code",
      "execution_count": 526,
      "metadata": {
        "id": "-uNOOjYGN_iI"
      },
      "outputs": [],
      "source": [
        "\n",
        "# Create a 128x128 array for the \"herring\" pattern\n",
        "with zipfile.ZipFile(\"files.zip\", \"r\") as zip_ref:\n",
        "    with zip_ref.open(patterns[\"herr\"]) as file:\n",
        "        # Read the file content (for example, as bytes)\n",
        "        data = file.read()\n",
        "        # Convert the data to an appropriate format, if necessary\n",
        "        # For example, you can convert it to a numpy array if it's numerical data\n",
        "        herr = np.frombuffer(data, dtype=np.float32).reshape(128, 128, order=\"F\")\n",
        "\n",
        "\n",
        "np.save(\"./npy/p_herr.npy\",herr)\n",
        "# Make a hole in the pattern using the punch_hole function\n",
        "hhole, hmask = punch_hole(herr)\n",
        "np.save(\"./npy/p_hhole.npy\",hhole)\n",
        "np.save(\"./npy/p_hmask.npy\",hmask)"
      ]
    },
    {
      "cell_type": "code",
      "execution_count": null,
      "metadata": {
        "id": "JbNrKWKsN_l7"
      },
      "outputs": [],
      "source": [
        "# Fill the hole using forward and backward filling\n",
        "filled = (\n",
        "    fill_hole(True, hhole, hmask, 20, 6) +\n",
        "    fill_hole(False, hhole, hmask, 20, 6) - hhole\n",
        ")\n",
        "\n",
        "# Create the figure and subplots\n",
        "fig, (ax1, ax2, ax3) = plt.subplots(1, 3, figsize=(15, 5))\n",
        "\n",
        "# Plot the three images\n",
        "im1 = plot2(ax1, herr, \"(a) Ideal\")\n",
        "im2 = plot2(ax2, hhole, \"(b) Gapped\")\n",
        "im3 = plot2(ax3, filled, \"(c) Filled\")\n",
        "\n",
        "# Add a colorbar for each subplot (optional)\n",
        "fig.colorbar(im1, ax=ax1)\n",
        "fig.colorbar(im2, ax=ax2)\n",
        "fig.colorbar(im3, ax=ax3)\n",
        "\n",
        "# Adjust layout\n",
        "plt.tight_layout()\n",
        "plt.show()\n"
      ]
    },
    {
      "cell_type": "code",
      "execution_count": null,
      "metadata": {
        "id": "LmMfbdQvN_qA"
      },
      "outputs": [],
      "source": [
        "# \"seismic\" pattern\n",
        "seis_base = np.empty((250, 125), dtype=np.float32, order='F')  # single-precision array\n",
        "print(np.isfortran(seis_base))\n",
        "\n",
        "# Read the seismic pattern data from the zip file\n",
        "with zipfile.ZipFile(\"files.zip\", \"r\") as zip_ref:\n",
        "    with zip_ref.open(patterns[\"seis\"]) as file:\n",
        "        # Read the file content (assuming it's binary data)\n",
        "        data = file.read()\n",
        "        # Convert the data to a numpy array\n",
        "        seis_base = np.frombuffer(data, dtype=np.float32).reshape((250, 125), order=\"F\")\n",
        "\n",
        "np.save(\"./npy/p_seis_base.npy\", seis_base)\n"
      ]
    },
    {
      "cell_type": "code",
      "execution_count": 529,
      "metadata": {
        "id": "ekXKocMjN_sX"
      },
      "outputs": [],
      "source": [
        "# Normalize the seismic pattern\n",
        "seis = seis_base.copy()\n",
        "seis = np.asfortranarray(seis_base.copy())\n",
        "m = np.mean(seis_base)\n",
        "seis -= m\n",
        "np.save(\"./npy/p_seism.npy\",seis)\n"
      ]
    },
    {
      "cell_type": "code",
      "execution_count": null,
      "metadata": {},
      "outputs": [],
      "source": [
        "scale = np.std(wood,ddof=1) / np.std(seis,ddof=1)\n",
        "seis *= scale\n",
        "print(np.std(wood,ddof=1))\n",
        "print(np.std(seis,ddof=1))\n",
        "print(scale)\n",
        "np.save(\"./npy/p_seis.npy\", seis)\n",
        "np.save(\"./npy/p_wood.npy\", wood)\n",
        "\n",
        "# Make a hole in the seismic pattern\n",
        "shole, smask = punch_hole(seis)\n",
        "np.save(\"./npy/p_shole.npy\", shole)\n",
        "np.save(\"./npy/p_smask.npy\", smask)"
      ]
    },
    {
      "cell_type": "code",
      "execution_count": null,
      "metadata": {
        "id": "lKDsHqXrN_uY"
      },
      "outputs": [],
      "source": [
        "# Fill the hole in the seismic pattern\n",
        "filled = fill_hole(True, shole, smask, 20, 0.7) + \\\n",
        "         fill_hole(False, shole, smask, 20, 0.7) - shole\n",
        "\n",
        "# Create the plots\n",
        "fig, (ax1, ax2, ax3) = plt.subplots(1, 3, figsize=(15, 5))\n",
        "\n",
        "# Plot the three images\n",
        "im1 = plot2(ax1, seis, \"(a) Ideal\")\n",
        "im2 = plot2(ax2, shole, \"(b) Gapped\")\n",
        "im3 = plot2(ax3, filled, \"(c) Filled\")\n",
        "\n",
        "# Add a colorbar for each subplot (optional)\n",
        "fig.colorbar(im1, ax=ax1)\n",
        "fig.colorbar(im2, ax=ax2)\n",
        "fig.colorbar(im3, ax=ax3)\n",
        "\n",
        "# Adjust layout\n",
        "plt.tight_layout()\n",
        "plt.show()\n"
      ]
    },
    {
      "cell_type": "code",
      "execution_count": 532,
      "metadata": {
        "id": "ZoxJsEiniugM"
      },
      "outputs": [],
      "source": [
        "import numpy as np\n",
        "from numba import njit\n",
        "\n",
        "@njit\n",
        "def stream_helix_core(na, inv, d, r, hlag, lambd, maxlag, n1):\n",
        "    T = d.dtype\n",
        "    a = np.zeros(na, dtype=T)  # streaming PEF\n",
        "\n",
        "    # Initialize values\n",
        "    for i1 in range(maxlag):\n",
        "        if inv:\n",
        "            d[i1] = r[i1]\n",
        "        else:\n",
        "            r[i1] = d[i1]\n",
        "\n",
        "    da = 0  # d (dot) a\n",
        "    dd = 0  # d (dot) d\n",
        "\n",
        "    for ia in range(na):\n",
        "        dd += d[maxlag + 1 - hlag[ia]] ** 2\n",
        "\n",
        "    sumrn = 0\n",
        "    for i1 in range(maxlag, n1):\n",
        "        if inv:\n",
        "            rn = r[i1] / lambd\n",
        "            dn = rn * (lambd + dd) - da\n",
        "            d[i1] = dn\n",
        "            sumrn += rn\n",
        "        else:\n",
        "            dn = d[i1]\n",
        "            rn = (dn + da) / (lambd + dd)\n",
        "            r[i1] = lambd * rn\n",
        "\n",
        "        # Update PEF\n",
        "        for ia in range(na):\n",
        "            a[ia] -= rn * d[i1 - hlag[ia]]\n",
        "\n",
        "        # Update dd and da\n",
        "        dd += dn * dn - d[i1 - maxlag] * d[i1 - maxlag]\n",
        "        da = dn * a[0]\n",
        "\n",
        "        for ia in range(1, na):\n",
        "            da += a[ia] * d[i1 + 1 - hlag[ia]]\n",
        "    # print(sumrn)\n",
        "\n",
        "def stream_helix(inv, d_n_dim, r_n_dim, lag, lambd):\n",
        "    np.save(\"./npy/p_d.npy\",d_n_dim)\n",
        "    np.save(\"./npy/p_r.npy\",r_n_dim)\n",
        "    d = np.reshape(d_n_dim, -1, order='F')\n",
        "    r = np.reshape(r_n_dim, -1, order='F')\n",
        "\n",
        "    n1, na = len(d), len(lag)\n",
        "    hlag = helix(lag, np.array(d_n_dim.shape, order='F'))\n",
        "    maxlag = np.max(hlag)\n",
        "\n",
        "    # Call the JIT-compiled core function\n",
        "    stream_helix_core(na, inv, d, r, hlag, lambd, maxlag, n1)\n",
        "\n",
        "    # Reshape d and r back to their original shapes\n",
        "    d_n_dim = np.reshape(d, d_n_dim.shape, order='F')\n",
        "    r_n_dim = np.reshape(r, r_n_dim.shape, order='F')"
      ]
    },
    {
      "cell_type": "code",
      "execution_count": 533,
      "metadata": {
        "id": "D1CB0c90N_2g"
      },
      "outputs": [],
      "source": [
        "# Apply helix filter\n",
        "pad = np.hstack((np.zeros((seis.shape[0], 20), dtype=np.float32, order=\"F\"), seis))\n",
        "np.save(\"./npy/p_pad1.npy\",pad)\n",
        "# res = np.empty_like(pad)\n",
        "res = np.zeros_like(pad)\n",
        "np.save(\"./npy/p_seis.npy\",seis)\n",
        "\n",
        "# Forward filtering\n",
        "stream_helix(False, pad, res, lag, 1e6)  # pad -> res\n",
        "# np.save(\"./npy/p_array.npy\",pad)\n",
        "\n",
        "# Backward filtering\n",
        "stream_helix(True, pad, res, lag, 1e6)   # pad <- res\n",
        "np.save(\"./npy/p_pad.npy\",pad)\n",
        "np.save(\"./npy/p_res.npy\",res)\n"
      ]
    },
    {
      "cell_type": "code",
      "execution_count": null,
      "metadata": {
        "id": "5R6XI3WVN_75"
      },
      "outputs": [],
      "source": [
        "# Plotting the results\n",
        "fig, (ax1, ax2, ax3) = plt.subplots(1, 3, figsize=(15, 5))\n",
        "\n",
        "im1 = plot2(ax1, seis, \"(a) Input\")\n",
        "im2 = plot2(ax2, 20 * res[:, 20:], \"(b) Residual (x 20)\")\n",
        "im3 = plot2(ax3, pad[:, 20:], \"(c) Inverse\")\n",
        "\n",
        "# Add a colorbar for each subplot (optional)\n",
        "fig.colorbar(im1, ax=ax1)\n",
        "fig.colorbar(im2, ax=ax2)\n",
        "fig.colorbar(im3, ax=ax3)\n",
        "\n",
        "# Adjust layout\n",
        "plt.tight_layout()\n",
        "plt.show()\n",
        "\n",
        "# np.save(\"./npy/p_array.npy\",res)\n",
        "np.save(\"./npy/p_seis.npy\",seis)\n",
        "np.save(\"./npy/p_resf.npy\",20 * res[:, 20:])\n",
        "np.save(\"./npy/p_padf.npy\",pad[:, 20:])"
      ]
    }
  ],
  "metadata": {
    "colab": {
      "provenance": []
    },
    "kernelspec": {
      "display_name": "Python 3",
      "name": "python3"
    },
    "language_info": {
      "codemirror_mode": {
        "name": "ipython",
        "version": 3
      },
      "file_extension": ".py",
      "mimetype": "text/x-python",
      "name": "python",
      "nbconvert_exporter": "python",
      "pygments_lexer": "ipython3",
      "version": "3.12.6"
    }
  },
  "nbformat": 4,
  "nbformat_minor": 0
}
